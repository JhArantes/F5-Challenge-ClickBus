{
 "cells": [
  {
   "cell_type": "markdown",
   "id": "f8d8e7d2",
   "metadata": {},
   "source": [
    "# Modelo Preditivo\n",
    "\n",
    "- **Click Bus**"
   ]
  },
  {
   "cell_type": "markdown",
   "id": "494324dd",
   "metadata": {},
   "source": [
    "### Importando Bibliotecas"
   ]
  },
  {
   "cell_type": "code",
   "execution_count": 2,
   "id": "56c4bb51",
   "metadata": {},
   "outputs": [],
   "source": [
    "import pandas as pd\n",
    "import matplotlib.pyplot as plt\n",
    "from sklearn.linear_model import LinearRegression\n",
    "import numpy as np"
   ]
  },
  {
   "cell_type": "markdown",
   "id": "ea8168b0",
   "metadata": {},
   "source": [
    "### Trazendo os Dados para DataFrame"
   ]
  },
  {
   "cell_type": "code",
   "execution_count": null,
   "id": "0d51c5ab",
   "metadata": {},
   "outputs": [],
   "source": [
    "df = pd.read_csv(r'..\\desafio clickbus\\desafio clickbus\\dados_desafio_fiap\\hash\\df_t.csv')\n",
    "df.head()"
   ]
  },
  {
   "cell_type": "markdown",
   "id": "85597ed6",
   "metadata": {},
   "source": [
    "### Agregando dados por mês"
   ]
  },
  {
   "cell_type": "code",
   "execution_count": null,
   "id": "cea4282b",
   "metadata": {},
   "outputs": [
    {
     "ename": "AttributeError",
     "evalue": "Can only use .dt accessor with datetimelike values",
     "output_type": "error",
     "traceback": [
      "\u001b[31m---------------------------------------------------------------------------\u001b[39m",
      "\u001b[31mAttributeError\u001b[39m                            Traceback (most recent call last)",
      "\u001b[36mCell\u001b[39m\u001b[36m \u001b[39m\u001b[32mIn[11]\u001b[39m\u001b[32m, line 2\u001b[39m\n\u001b[32m      1\u001b[39m \u001b[38;5;66;03m# Criando coluna ano-mês\u001b[39;00m\n\u001b[32m----> \u001b[39m\u001b[32m2\u001b[39m df[\u001b[33m'\u001b[39m\u001b[33mAnoMes\u001b[39m\u001b[33m'\u001b[39m] = \u001b[43mdf\u001b[49m\u001b[43m[\u001b[49m\u001b[33;43m'\u001b[39;49m\u001b[33;43mdate_purchase\u001b[39;49m\u001b[33;43m'\u001b[39;49m\u001b[43m]\u001b[49m\u001b[43m.\u001b[49m\u001b[43mdt\u001b[49m.to_period(\u001b[33m'\u001b[39m\u001b[33mM\u001b[39m\u001b[33m'\u001b[39m)\n\u001b[32m      3\u001b[39m \u001b[38;5;66;03m# Soma total de compras por mês\u001b[39;00m\n\u001b[32m      4\u001b[39m df_agg = df.groupby(\u001b[33m'\u001b[39m\u001b[33mAnoMes\u001b[39m\u001b[33m'\u001b[39m).agg({\n\u001b[32m      5\u001b[39m     \u001b[33m'\u001b[39m\u001b[33mgmv_success\u001b[39m\u001b[33m'\u001b[39m: \u001b[33m'\u001b[39m\u001b[33msum\u001b[39m\u001b[33m'\u001b[39m,\n\u001b[32m      6\u001b[39m     \u001b[33m'\u001b[39m\u001b[33mtotal_tickets_quantity_success\u001b[39m\u001b[33m'\u001b[39m: \u001b[33m'\u001b[39m\u001b[33msum\u001b[39m\u001b[33m'\u001b[39m\n\u001b[32m      7\u001b[39m }).reset_index()\n",
      "\u001b[36mFile \u001b[39m\u001b[32mc:\\Users\\joaoh\\Desktop\\Faculdade\\Projetos\\Challeginge-F5-ClickBus\\venv_cria\\Lib\\site-packages\\pandas\\core\\generic.py:6318\u001b[39m, in \u001b[36mNDFrame.__getattr__\u001b[39m\u001b[34m(self, name)\u001b[39m\n\u001b[32m   6311\u001b[39m \u001b[38;5;28;01mif\u001b[39;00m (\n\u001b[32m   6312\u001b[39m     name \u001b[38;5;129;01mnot\u001b[39;00m \u001b[38;5;129;01min\u001b[39;00m \u001b[38;5;28mself\u001b[39m._internal_names_set\n\u001b[32m   6313\u001b[39m     \u001b[38;5;129;01mand\u001b[39;00m name \u001b[38;5;129;01mnot\u001b[39;00m \u001b[38;5;129;01min\u001b[39;00m \u001b[38;5;28mself\u001b[39m._metadata\n\u001b[32m   6314\u001b[39m     \u001b[38;5;129;01mand\u001b[39;00m name \u001b[38;5;129;01mnot\u001b[39;00m \u001b[38;5;129;01min\u001b[39;00m \u001b[38;5;28mself\u001b[39m._accessors\n\u001b[32m   6315\u001b[39m     \u001b[38;5;129;01mand\u001b[39;00m \u001b[38;5;28mself\u001b[39m._info_axis._can_hold_identifiers_and_holds_name(name)\n\u001b[32m   6316\u001b[39m ):\n\u001b[32m   6317\u001b[39m     \u001b[38;5;28;01mreturn\u001b[39;00m \u001b[38;5;28mself\u001b[39m[name]\n\u001b[32m-> \u001b[39m\u001b[32m6318\u001b[39m \u001b[38;5;28;01mreturn\u001b[39;00m \u001b[38;5;28;43mobject\u001b[39;49m\u001b[43m.\u001b[49m\u001b[34;43m__getattribute__\u001b[39;49m\u001b[43m(\u001b[49m\u001b[38;5;28;43mself\u001b[39;49m\u001b[43m,\u001b[49m\u001b[43m \u001b[49m\u001b[43mname\u001b[49m\u001b[43m)\u001b[49m\n",
      "\u001b[36mFile \u001b[39m\u001b[32mc:\\Users\\joaoh\\Desktop\\Faculdade\\Projetos\\Challeginge-F5-ClickBus\\venv_cria\\Lib\\site-packages\\pandas\\core\\accessor.py:224\u001b[39m, in \u001b[36mCachedAccessor.__get__\u001b[39m\u001b[34m(self, obj, cls)\u001b[39m\n\u001b[32m    221\u001b[39m \u001b[38;5;28;01mif\u001b[39;00m obj \u001b[38;5;129;01mis\u001b[39;00m \u001b[38;5;28;01mNone\u001b[39;00m:\n\u001b[32m    222\u001b[39m     \u001b[38;5;66;03m# we're accessing the attribute of the class, i.e., Dataset.geo\u001b[39;00m\n\u001b[32m    223\u001b[39m     \u001b[38;5;28;01mreturn\u001b[39;00m \u001b[38;5;28mself\u001b[39m._accessor\n\u001b[32m--> \u001b[39m\u001b[32m224\u001b[39m accessor_obj = \u001b[38;5;28;43mself\u001b[39;49m\u001b[43m.\u001b[49m\u001b[43m_accessor\u001b[49m\u001b[43m(\u001b[49m\u001b[43mobj\u001b[49m\u001b[43m)\u001b[49m\n\u001b[32m    225\u001b[39m \u001b[38;5;66;03m# Replace the property with the accessor object. Inspired by:\u001b[39;00m\n\u001b[32m    226\u001b[39m \u001b[38;5;66;03m# https://www.pydanny.com/cached-property.html\u001b[39;00m\n\u001b[32m    227\u001b[39m \u001b[38;5;66;03m# We need to use object.__setattr__ because we overwrite __setattr__ on\u001b[39;00m\n\u001b[32m    228\u001b[39m \u001b[38;5;66;03m# NDFrame\u001b[39;00m\n\u001b[32m    229\u001b[39m \u001b[38;5;28mobject\u001b[39m.\u001b[34m__setattr__\u001b[39m(obj, \u001b[38;5;28mself\u001b[39m._name, accessor_obj)\n",
      "\u001b[36mFile \u001b[39m\u001b[32mc:\\Users\\joaoh\\Desktop\\Faculdade\\Projetos\\Challeginge-F5-ClickBus\\venv_cria\\Lib\\site-packages\\pandas\\core\\indexes\\accessors.py:643\u001b[39m, in \u001b[36mCombinedDatetimelikeProperties.__new__\u001b[39m\u001b[34m(cls, data)\u001b[39m\n\u001b[32m    640\u001b[39m \u001b[38;5;28;01melif\u001b[39;00m \u001b[38;5;28misinstance\u001b[39m(data.dtype, PeriodDtype):\n\u001b[32m    641\u001b[39m     \u001b[38;5;28;01mreturn\u001b[39;00m PeriodProperties(data, orig)\n\u001b[32m--> \u001b[39m\u001b[32m643\u001b[39m \u001b[38;5;28;01mraise\u001b[39;00m \u001b[38;5;167;01mAttributeError\u001b[39;00m(\u001b[33m\"\u001b[39m\u001b[33mCan only use .dt accessor with datetimelike values\u001b[39m\u001b[33m\"\u001b[39m)\n",
      "\u001b[31mAttributeError\u001b[39m: Can only use .dt accessor with datetimelike values"
     ]
    }
   ],
   "source": [
    "# Criando coluna ano-mês\n",
    "df['AnoMes'] = df['date_purchase'].dt.to_period('M')\n",
    "# Soma total de compras por mês\n",
    "df_agg = df.groupby('AnoMes').agg({\n",
    "    'gmv_success': 'sum',\n",
    "    'total_tickets_quantity_success': 'sum'\n",
    "}).reset_index()\n",
    "\n",
    "# Transformar AnoMes em datetime para plot\n",
    "df_agg['AnoMes'] = df_agg['AnoMes'].dt.to_timestamp()"
   ]
  },
  {
   "cell_type": "markdown",
   "id": "03c8048b",
   "metadata": {},
   "source": [
    "### Preparando dados para a Regressão"
   ]
  },
  {
   "cell_type": "code",
   "execution_count": null,
   "id": "558218f4",
   "metadata": {},
   "outputs": [],
   "source": [
    "df_agg['mes_num'] = np.arange(len(df_agg))\n",
    "X = df_agg['mes_num'].values.reshape(-1, 1)\n",
    "y = df_agg['total_tickets_quantity_success'].values"
   ]
  },
  {
   "cell_type": "markdown",
   "id": "4a48df06",
   "metadata": {},
   "source": [
    "### Treinar modelo Linear\n"
   ]
  },
  {
   "cell_type": "code",
   "execution_count": null,
   "id": "ead133cb",
   "metadata": {},
   "outputs": [
    {
     "ename": "NameError",
     "evalue": "name 'X' is not defined",
     "output_type": "error",
     "traceback": [
      "\u001b[31m---------------------------------------------------------------------------\u001b[39m",
      "\u001b[31mNameError\u001b[39m                                 Traceback (most recent call last)",
      "\u001b[36mCell\u001b[39m\u001b[36m \u001b[39m\u001b[32mIn[12]\u001b[39m\u001b[32m, line 2\u001b[39m\n\u001b[32m      1\u001b[39m modelo = LinearRegression()\n\u001b[32m----> \u001b[39m\u001b[32m2\u001b[39m modelo.fit(\u001b[43mX\u001b[49m, y)\n",
      "\u001b[31mNameError\u001b[39m: name 'X' is not defined"
     ]
    }
   ],
   "source": [
    "modelo = LinearRegression()\n",
    "modelo.fit(X, y)"
   ]
  },
  {
   "cell_type": "markdown",
   "id": "dcb1decc",
   "metadata": {},
   "source": [
    "### Previsão para 2025"
   ]
  },
  {
   "cell_type": "code",
   "execution_count": null,
   "id": "49fd046a",
   "metadata": {},
   "outputs": [],
   "source": [
    "meses_futuros = np.arange(len(df_agg), len(df_agg)+12).reshape(-1,1)\n",
    "previsao_2025 = modelo.predict(meses_futuros)"
   ]
  },
  {
   "cell_type": "markdown",
   "id": "a11babf4",
   "metadata": {},
   "source": [
    "\n",
    "### Criar DataFrame da previsão\n"
   ]
  },
  {
   "cell_type": "code",
   "execution_count": null,
   "id": "a2120197",
   "metadata": {},
   "outputs": [
    {
     "ename": "NameError",
     "evalue": "name 'previsao_2025' is not defined",
     "output_type": "error",
     "traceback": [
      "\u001b[31m---------------------------------------------------------------------------\u001b[39m",
      "\u001b[31mNameError\u001b[39m                                 Traceback (most recent call last)",
      "\u001b[36mCell\u001b[39m\u001b[36m \u001b[39m\u001b[32mIn[13]\u001b[39m\u001b[32m, line 4\u001b[39m\n\u001b[32m      1\u001b[39m datas_2025 = pd.date_range(start=\u001b[33m'\u001b[39m\u001b[33m2025-01-01\u001b[39m\u001b[33m'\u001b[39m, periods=\u001b[32m12\u001b[39m, freq=\u001b[33m'\u001b[39m\u001b[33mMS\u001b[39m\u001b[33m'\u001b[39m)\n\u001b[32m      2\u001b[39m df_previsao = pd.DataFrame({\n\u001b[32m      3\u001b[39m     \u001b[33m'\u001b[39m\u001b[33mData\u001b[39m\u001b[33m'\u001b[39m: datas_2025,\n\u001b[32m----> \u001b[39m\u001b[32m4\u001b[39m     \u001b[33m'\u001b[39m\u001b[33mQuantidade_prevista\u001b[39m\u001b[33m'\u001b[39m: \u001b[43mprevisao_2025\u001b[49m\n\u001b[32m      5\u001b[39m })\n",
      "\u001b[31mNameError\u001b[39m: name 'previsao_2025' is not defined"
     ]
    }
   ],
   "source": [
    "datas_2025 = pd.date_range(start='2025-01-01', periods=12, freq='MS')\n",
    "df_previsao = pd.DataFrame({\n",
    "    'Data': datas_2025,\n",
    "    'Quantidade_prevista': previsao_2025\n",
    "})"
   ]
  },
  {
   "cell_type": "markdown",
   "id": "00c71822",
   "metadata": {},
   "source": [
    "### Plot histórico + previsão"
   ]
  },
  {
   "cell_type": "code",
   "execution_count": null,
   "id": "1ea9cba4",
   "metadata": {},
   "outputs": [],
   "source": [
    "\n",
    "plt.figure(figsize=(10,6))\n",
    "plt.plot(df_agg['AnoMes'], df_agg['total_tickets_quantity_success'], label='Histórico', marker='o')\n",
    "plt.plot(df_previsao['Data'], df_previsao['Quantidade_prevista'], label='Previsão 2025', marker='x', linestyle='--')\n",
    "plt.title('Previsão de Compras de Passagens para 2025')\n",
    "plt.xlabel('Data')\n",
    "plt.ylabel('Quantidade de Passagens')\n",
    "plt.legend()\n",
    "plt.grid(True)\n",
    "plt.tight_layout()"
   ]
  },
  {
   "cell_type": "markdown",
   "id": "14de269f",
   "metadata": {},
   "source": [
    "## Salvar gráfico\n"
   ]
  },
  {
   "cell_type": "code",
   "execution_count": null,
   "id": "26283e0c",
   "metadata": {},
   "outputs": [
    {
     "data": {
      "text/plain": [
       "<Figure size 640x480 with 0 Axes>"
      ]
     },
     "metadata": {},
     "output_type": "display_data"
    }
   ],
   "source": [
    "plt.savefig('previsao_compras_2025.png')\n",
    "plt.show()"
   ]
  },
  {
   "cell_type": "markdown",
   "id": "949103e6",
   "metadata": {},
   "source": [
    "\n",
    "### Exibir tabela de previsão"
   ]
  },
  {
   "cell_type": "code",
   "execution_count": null,
   "id": "7b238ae9",
   "metadata": {},
   "outputs": [],
   "source": [
    "\n",
    "print(\"Previsão de Compras para 2025:\")\n",
    "print(df_previsao)"
   ]
  }
 ],
 "metadata": {
  "kernelspec": {
   "display_name": "venv_sklearn",
   "language": "python",
   "name": "python3"
  },
  "language_info": {
   "codemirror_mode": {
    "name": "ipython",
    "version": 3
   },
   "file_extension": ".py",
   "mimetype": "text/x-python",
   "name": "python",
   "nbconvert_exporter": "python",
   "pygments_lexer": "ipython3",
   "version": "3.13.5"
  }
 },
 "nbformat": 4,
 "nbformat_minor": 5
}
